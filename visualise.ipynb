{
 "metadata": {
  "language_info": {
   "codemirror_mode": {
    "name": "ipython",
    "version": 3
   },
   "file_extension": ".py",
   "mimetype": "text/x-python",
   "name": "python",
   "nbconvert_exporter": "python",
   "pygments_lexer": "ipython3",
   "version": "3.8.5-final"
  },
  "orig_nbformat": 2,
  "kernelspec": {
   "name": "python_defaultSpec_1601013854744",
   "display_name": "Python 3.8.5 64-bit"
  }
 },
 "nbformat": 4,
 "nbformat_minor": 2,
 "cells": [
  {
   "cell_type": "code",
   "execution_count": 27,
   "metadata": {
    "tags": []
   },
   "outputs": [],
   "source": [
    "%matplotlib widget\n",
    "from pandas_datareader import data\n",
    "import matplotlib.pyplot as plt\n",
    "import pandas as pd\n",
    "import numpy as np\n",
    "from scipy.optimize import least_squares, minimize\n",
    "from sklearn import linear_model\n",
    "import random\n",
    "import cma\n",
    "from mpl_toolkits.axes_grid1 import host_subplot\n",
    "import mpl_toolkits.axisartist as AA\n",
    "import matplotlib.pyplot as plt\n",
    "import datetime\n",
    "from multiprocessing import Process, Queue\n",
    "\n",
    "\n",
    "def plot_lppls(log_price,str,sig,dates):\n",
    "    f, (ax1,ax1twin,ax2) = plt.subplots(3,1,sharex=True)\n",
    "    df=pd.concat([pd.DataFrame(log_price), sig[str[0]],sig[str[1]],sig[str[2]],sig[str[3]]], axis=1, sort=False).set_index(dates)\n",
    "    df.columns= ['log_price','sig1','sig2','sig3','sig4']\n",
    "\n",
    "    ax1.plot(np.exp(df['log_price']), label=\"price\")\n",
    "    ax1.grid(b=True)\n",
    "    ax1.legend(loc=\"upper left\")\n",
    "    #ax1twin = ax1.twinx()\n",
    "    ax1twin.plot(df['sig1'].dropna(), 'r',label=str[0])\n",
    "    ax1twin.grid(b=True)\n",
    "    ax1twin.legend(loc=\"upper left\")\n",
    "    ax2.plot(df['sig2'].dropna(), label=str[1])\n",
    "    ax2.plot(df['sig3'].dropna(), label=str[2])\n",
    "    ax2.plot(df['sig4'].dropna(), label=str[3])\n",
    "    ax2.legend(loc=\"upper right\")\n",
    "    ax2.grid(b=True)\n",
    "    plt.legend()\n",
    "    plt.draw()\n",
    "    #plt.savefig('C:\\\\Users\\\\b.debruyne\\\\bubble\\\\lppls.eps')\n",
    "    plt.show()\n",
    "    return True\n",
    "\n",
    "    # Define the instruments to download. We would like to see Apple, Microsoft and the S&P500 index.\n",
    "ticker = '^GSPC'\n",
    "\n",
    "# We would like all available data from 01/01/2000 until 12/31/2016.\n",
    "start = datetime.datetime(2016, 1, 1)\n",
    "end = datetime.datetime(2020, 8, 30)\n",
    "\n",
    "price = data.DataReader(['sp500'], 'fred', start, end).ffill().bfill()\n",
    "log_price = np.log(price)\n",
    "log_price = log_price.values.flatten()\n",
    "\n",
    "sig=pd.read_csv('sig.csv',index_col=0)\n",
    "\n"
   ]
  },
  {
   "cell_type": "code",
   "execution_count": 28,
   "metadata": {},
   "outputs": [
    {
     "output_type": "display_data",
     "data": {
      "text/plain": "Canvas(toolbar=Toolbar(toolitems=[('Home', 'Reset original view', 'home', 'home'), ('Back', 'Back to previous …",
      "application/vnd.jupyter.widget-view+json": {
       "version_major": 2,
       "version_minor": 0,
       "model_id": "2ff0a96f51284023bc21f44f93e46546"
      }
     },
     "metadata": {}
    },
    {
     "output_type": "execute_result",
     "data": {
      "text/plain": "True"
     },
     "metadata": {},
     "execution_count": 28
    }
   ],
   "source": [
    "\n",
    "plot_lppls(log_price,['tc_std','tc_median','tc_q3','tc_q1'],sig,price.index)"
   ]
  },
  {
   "cell_type": "code",
   "execution_count": null,
   "metadata": {},
   "outputs": [],
   "source": []
  }
 ]
}